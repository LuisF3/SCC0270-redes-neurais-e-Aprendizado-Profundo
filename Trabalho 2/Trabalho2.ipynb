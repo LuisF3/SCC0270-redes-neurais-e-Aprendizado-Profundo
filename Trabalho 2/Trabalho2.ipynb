{
  "nbformat": 4,
  "nbformat_minor": 5,
  "metadata": {
    "accelerator": "GPU",
    "colab": {
      "name": "Trabalho2.ipynb",
      "provenance": [],
      "collapsed_sections": []
    },
    "kernelspec": {
      "display_name": "Python 3",
      "language": "python",
      "name": "python3"
    },
    "language_info": {
      "codemirror_mode": {
        "name": "ipython",
        "version": 3
      },
      "file_extension": ".py",
      "mimetype": "text/x-python",
      "name": "python",
      "nbconvert_exporter": "python",
      "pygments_lexer": "ipython3",
      "version": "3.8.5"
    }
  },
  "cells": [
    {
      "cell_type": "code",
      "metadata": {
        "colab": {
          "base_uri": "https://localhost:8080/"
        },
        "id": "VOp7FN1WsIpv",
        "outputId": "24567bb2-0191-4d9f-fbf7-fcb75bb7b0dd"
      },
      "source": [
        "!pip install keras\n",
        "!pip install tensorflow\n",
        "!pip install scipy\n",
        "!pip install matplotlib\n",
        "!pip install scikit-image"
      ],
      "id": "VOp7FN1WsIpv",
      "execution_count": null,
      "outputs": [
        {
          "output_type": "stream",
          "text": [
            "Requirement already satisfied: keras in /usr/local/lib/python3.7/dist-packages (2.4.3)\n",
            "Requirement already satisfied: pyyaml in /usr/local/lib/python3.7/dist-packages (from keras) (3.13)\n",
            "Requirement already satisfied: h5py in /usr/local/lib/python3.7/dist-packages (from keras) (3.1.0)\n",
            "Requirement already satisfied: scipy>=0.14 in /usr/local/lib/python3.7/dist-packages (from keras) (1.4.1)\n",
            "Requirement already satisfied: numpy>=1.9.1 in /usr/local/lib/python3.7/dist-packages (from keras) (1.19.5)\n",
            "Requirement already satisfied: cached-property; python_version < \"3.8\" in /usr/local/lib/python3.7/dist-packages (from h5py->keras) (1.5.2)\n",
            "Requirement already satisfied: tensorflow in /usr/local/lib/python3.7/dist-packages (2.5.0)\n",
            "Requirement already satisfied: opt-einsum~=3.3.0 in /usr/local/lib/python3.7/dist-packages (from tensorflow) (3.3.0)\n",
            "Requirement already satisfied: typing-extensions~=3.7.4 in /usr/local/lib/python3.7/dist-packages (from tensorflow) (3.7.4.3)\n",
            "Requirement already satisfied: tensorflow-estimator<2.6.0,>=2.5.0rc0 in /usr/local/lib/python3.7/dist-packages (from tensorflow) (2.5.0)\n",
            "Requirement already satisfied: grpcio~=1.34.0 in /usr/local/lib/python3.7/dist-packages (from tensorflow) (1.34.1)\n",
            "Requirement already satisfied: keras-nightly~=2.5.0.dev in /usr/local/lib/python3.7/dist-packages (from tensorflow) (2.5.0.dev2021032900)\n",
            "Requirement already satisfied: wrapt~=1.12.1 in /usr/local/lib/python3.7/dist-packages (from tensorflow) (1.12.1)\n",
            "Requirement already satisfied: numpy~=1.19.2 in /usr/local/lib/python3.7/dist-packages (from tensorflow) (1.19.5)\n",
            "Requirement already satisfied: tensorboard~=2.5 in /usr/local/lib/python3.7/dist-packages (from tensorflow) (2.5.0)\n",
            "Requirement already satisfied: wheel~=0.35 in /usr/local/lib/python3.7/dist-packages (from tensorflow) (0.36.2)\n",
            "Requirement already satisfied: keras-preprocessing~=1.1.2 in /usr/local/lib/python3.7/dist-packages (from tensorflow) (1.1.2)\n",
            "Requirement already satisfied: h5py~=3.1.0 in /usr/local/lib/python3.7/dist-packages (from tensorflow) (3.1.0)\n",
            "Requirement already satisfied: absl-py~=0.10 in /usr/local/lib/python3.7/dist-packages (from tensorflow) (0.12.0)\n",
            "Requirement already satisfied: google-pasta~=0.2 in /usr/local/lib/python3.7/dist-packages (from tensorflow) (0.2.0)\n",
            "Requirement already satisfied: termcolor~=1.1.0 in /usr/local/lib/python3.7/dist-packages (from tensorflow) (1.1.0)\n",
            "Requirement already satisfied: astunparse~=1.6.3 in /usr/local/lib/python3.7/dist-packages (from tensorflow) (1.6.3)\n",
            "Requirement already satisfied: gast==0.4.0 in /usr/local/lib/python3.7/dist-packages (from tensorflow) (0.4.0)\n",
            "Requirement already satisfied: six~=1.15.0 in /usr/local/lib/python3.7/dist-packages (from tensorflow) (1.15.0)\n",
            "Requirement already satisfied: flatbuffers~=1.12.0 in /usr/local/lib/python3.7/dist-packages (from tensorflow) (1.12)\n",
            "Requirement already satisfied: protobuf>=3.9.2 in /usr/local/lib/python3.7/dist-packages (from tensorflow) (3.12.4)\n",
            "Requirement already satisfied: tensorboard-data-server<0.7.0,>=0.6.0 in /usr/local/lib/python3.7/dist-packages (from tensorboard~=2.5->tensorflow) (0.6.1)\n",
            "Requirement already satisfied: tensorboard-plugin-wit>=1.6.0 in /usr/local/lib/python3.7/dist-packages (from tensorboard~=2.5->tensorflow) (1.8.0)\n",
            "Requirement already satisfied: requests<3,>=2.21.0 in /usr/local/lib/python3.7/dist-packages (from tensorboard~=2.5->tensorflow) (2.23.0)\n",
            "Requirement already satisfied: werkzeug>=0.11.15 in /usr/local/lib/python3.7/dist-packages (from tensorboard~=2.5->tensorflow) (1.0.1)\n",
            "Requirement already satisfied: google-auth-oauthlib<0.5,>=0.4.1 in /usr/local/lib/python3.7/dist-packages (from tensorboard~=2.5->tensorflow) (0.4.4)\n",
            "Requirement already satisfied: markdown>=2.6.8 in /usr/local/lib/python3.7/dist-packages (from tensorboard~=2.5->tensorflow) (3.3.4)\n",
            "Requirement already satisfied: setuptools>=41.0.0 in /usr/local/lib/python3.7/dist-packages (from tensorboard~=2.5->tensorflow) (57.0.0)\n",
            "Requirement already satisfied: google-auth<2,>=1.6.3 in /usr/local/lib/python3.7/dist-packages (from tensorboard~=2.5->tensorflow) (1.31.0)\n",
            "Requirement already satisfied: cached-property; python_version < \"3.8\" in /usr/local/lib/python3.7/dist-packages (from h5py~=3.1.0->tensorflow) (1.5.2)\n",
            "Requirement already satisfied: urllib3!=1.25.0,!=1.25.1,<1.26,>=1.21.1 in /usr/local/lib/python3.7/dist-packages (from requests<3,>=2.21.0->tensorboard~=2.5->tensorflow) (1.24.3)\n",
            "Requirement already satisfied: chardet<4,>=3.0.2 in /usr/local/lib/python3.7/dist-packages (from requests<3,>=2.21.0->tensorboard~=2.5->tensorflow) (3.0.4)\n",
            "Requirement already satisfied: idna<3,>=2.5 in /usr/local/lib/python3.7/dist-packages (from requests<3,>=2.21.0->tensorboard~=2.5->tensorflow) (2.10)\n",
            "Requirement already satisfied: certifi>=2017.4.17 in /usr/local/lib/python3.7/dist-packages (from requests<3,>=2.21.0->tensorboard~=2.5->tensorflow) (2021.5.30)\n",
            "Requirement already satisfied: requests-oauthlib>=0.7.0 in /usr/local/lib/python3.7/dist-packages (from google-auth-oauthlib<0.5,>=0.4.1->tensorboard~=2.5->tensorflow) (1.3.0)\n",
            "Requirement already satisfied: importlib-metadata; python_version < \"3.8\" in /usr/local/lib/python3.7/dist-packages (from markdown>=2.6.8->tensorboard~=2.5->tensorflow) (4.5.0)\n",
            "Requirement already satisfied: pyasn1-modules>=0.2.1 in /usr/local/lib/python3.7/dist-packages (from google-auth<2,>=1.6.3->tensorboard~=2.5->tensorflow) (0.2.8)\n",
            "Requirement already satisfied: rsa<5,>=3.1.4; python_version >= \"3.6\" in /usr/local/lib/python3.7/dist-packages (from google-auth<2,>=1.6.3->tensorboard~=2.5->tensorflow) (4.7.2)\n",
            "Requirement already satisfied: cachetools<5.0,>=2.0.0 in /usr/local/lib/python3.7/dist-packages (from google-auth<2,>=1.6.3->tensorboard~=2.5->tensorflow) (4.2.2)\n",
            "Requirement already satisfied: oauthlib>=3.0.0 in /usr/local/lib/python3.7/dist-packages (from requests-oauthlib>=0.7.0->google-auth-oauthlib<0.5,>=0.4.1->tensorboard~=2.5->tensorflow) (3.1.1)\n",
            "Requirement already satisfied: zipp>=0.5 in /usr/local/lib/python3.7/dist-packages (from importlib-metadata; python_version < \"3.8\"->markdown>=2.6.8->tensorboard~=2.5->tensorflow) (3.4.1)\n",
            "Requirement already satisfied: pyasn1<0.5.0,>=0.4.6 in /usr/local/lib/python3.7/dist-packages (from pyasn1-modules>=0.2.1->google-auth<2,>=1.6.3->tensorboard~=2.5->tensorflow) (0.4.8)\n",
            "Requirement already satisfied: scipy in /usr/local/lib/python3.7/dist-packages (1.4.1)\n",
            "Requirement already satisfied: numpy>=1.13.3 in /usr/local/lib/python3.7/dist-packages (from scipy) (1.19.5)\n",
            "Requirement already satisfied: matplotlib in /usr/local/lib/python3.7/dist-packages (3.2.2)\n",
            "Requirement already satisfied: cycler>=0.10 in /usr/local/lib/python3.7/dist-packages (from matplotlib) (0.10.0)\n",
            "Requirement already satisfied: numpy>=1.11 in /usr/local/lib/python3.7/dist-packages (from matplotlib) (1.19.5)\n",
            "Requirement already satisfied: kiwisolver>=1.0.1 in /usr/local/lib/python3.7/dist-packages (from matplotlib) (1.3.1)\n",
            "Requirement already satisfied: pyparsing!=2.0.4,!=2.1.2,!=2.1.6,>=2.0.1 in /usr/local/lib/python3.7/dist-packages (from matplotlib) (2.4.7)\n",
            "Requirement already satisfied: python-dateutil>=2.1 in /usr/local/lib/python3.7/dist-packages (from matplotlib) (2.8.1)\n",
            "Requirement already satisfied: six in /usr/local/lib/python3.7/dist-packages (from cycler>=0.10->matplotlib) (1.15.0)\n",
            "Requirement already satisfied: scikit-image in /usr/local/lib/python3.7/dist-packages (0.16.2)\n",
            "Requirement already satisfied: pillow>=4.3.0 in /usr/local/lib/python3.7/dist-packages (from scikit-image) (7.1.2)\n",
            "Requirement already satisfied: imageio>=2.3.0 in /usr/local/lib/python3.7/dist-packages (from scikit-image) (2.4.1)\n",
            "Requirement already satisfied: matplotlib!=3.0.0,>=2.0.0 in /usr/local/lib/python3.7/dist-packages (from scikit-image) (3.2.2)\n",
            "Requirement already satisfied: PyWavelets>=0.4.0 in /usr/local/lib/python3.7/dist-packages (from scikit-image) (1.1.1)\n",
            "Requirement already satisfied: scipy>=0.19.0 in /usr/local/lib/python3.7/dist-packages (from scikit-image) (1.4.1)\n",
            "Requirement already satisfied: networkx>=2.0 in /usr/local/lib/python3.7/dist-packages (from scikit-image) (2.5.1)\n",
            "Requirement already satisfied: numpy in /usr/local/lib/python3.7/dist-packages (from imageio>=2.3.0->scikit-image) (1.19.5)\n",
            "Requirement already satisfied: cycler>=0.10 in /usr/local/lib/python3.7/dist-packages (from matplotlib!=3.0.0,>=2.0.0->scikit-image) (0.10.0)\n",
            "Requirement already satisfied: kiwisolver>=1.0.1 in /usr/local/lib/python3.7/dist-packages (from matplotlib!=3.0.0,>=2.0.0->scikit-image) (1.3.1)\n",
            "Requirement already satisfied: pyparsing!=2.0.4,!=2.1.2,!=2.1.6,>=2.0.1 in /usr/local/lib/python3.7/dist-packages (from matplotlib!=3.0.0,>=2.0.0->scikit-image) (2.4.7)\n",
            "Requirement already satisfied: python-dateutil>=2.1 in /usr/local/lib/python3.7/dist-packages (from matplotlib!=3.0.0,>=2.0.0->scikit-image) (2.8.1)\n",
            "Requirement already satisfied: decorator<5,>=4.3 in /usr/local/lib/python3.7/dist-packages (from networkx>=2.0->scikit-image) (4.4.2)\n",
            "Requirement already satisfied: six in /usr/local/lib/python3.7/dist-packages (from cycler>=0.10->matplotlib!=3.0.0,>=2.0.0->scikit-image) (1.15.0)\n"
          ],
          "name": "stdout"
        }
      ]
    },
    {
      "cell_type": "code",
      "metadata": {
        "colab": {
          "base_uri": "https://localhost:8080/"
        },
        "id": "e739J-pasMGx",
        "outputId": "e72bcfa2-efac-419c-fca8-58cb3d0bfc16"
      },
      "source": [
        "from google.colab import drive\n",
        "drive.mount('/content/drive')"
      ],
      "id": "e739J-pasMGx",
      "execution_count": null,
      "outputs": [
        {
          "output_type": "stream",
          "text": [
            "Drive already mounted at /content/drive; to attempt to forcibly remount, call drive.mount(\"/content/drive\", force_remount=True).\n"
          ],
          "name": "stdout"
        }
      ]
    },
    {
      "cell_type": "code",
      "metadata": {
        "id": "93966ce6"
      },
      "source": [
        "import keras\n",
        "from keras.models import Sequential\n",
        "from keras.datasets import cifar10\n",
        "import scipy.io\n",
        "import numpy as np\n",
        "import matplotlib.pyplot as plt\n",
        "import skimage.util"
      ],
      "id": "93966ce6",
      "execution_count": null,
      "outputs": []
    },
    {
      "cell_type": "code",
      "metadata": {
        "id": "ccda3258"
      },
      "source": [
        "from keras.activations import relu, softmax\n",
        "from keras.layers import InputLayer, Conv2D, MaxPool2D, Flatten, Dense\n",
        "from keras.optimizers import Adam\n",
        "from keras.losses import categorical_crossentropy\n",
        "\n",
        "def generate_model():\n",
        "  model = Sequential()\n",
        "  model.add(InputLayer((32,32,3)))\n",
        "\n",
        "  model.add(Conv2D(16, 3, activation=relu, padding='same'))\n",
        "  model.add(MaxPool2D(2))\n",
        "\n",
        "  model.add(Conv2D(16, 3, activation=relu, padding='same'))\n",
        "  model.add(Conv2D(16, 3, activation=relu, padding='same'))\n",
        "  model.add(MaxPool2D(2))\n",
        "\n",
        "  model.add(Conv2D(32, 3, activation=relu, padding='same'))\n",
        "  model.add(Conv2D(32, 3, activation=relu, padding='same'))\n",
        "  model.add(MaxPool2D(2))\n",
        "\n",
        "  model.add(Flatten())\n",
        "  model.add(Dense(10, activation=softmax))\n",
        "\n",
        "  model.compile(Adam(), categorical_crossentropy, metrics=['accuracy'])\n",
        "\n",
        "  return model"
      ],
      "id": "ccda3258",
      "execution_count": null,
      "outputs": []
    },
    {
      "cell_type": "markdown",
      "metadata": {
        "id": "7dfe1326"
      },
      "source": [
        "## Questão 2\n",
        "\n",
        "Carregue as duas bases de dados (CIFAR-10 e SVHN):\n",
        "1. Ao carregar a base de dados CIFAR-10 você irá notar que y_train e y_test têm duas dimensões. Transforme eles em vetores.\n",
        "2. Ao carregar a base de dados SVHN, e entender sua estrutura, você irá notar que X_train e X_test estão com as dimensões em uma ordem diferente da que usamos na aula (e que o Keras usa por padrão). Transforme tais arrays para ter a ordem que normalmente usamos (id da imagem, linhas, colunas e canais);\n",
        "3. Transforme o valor dos pixels das imagens para o intervalo [0; 1];\n",
        "4. Para cada uma das duas bases, compute:\n",
        "    - Quantidade de imagens de treino e teste\n",
        "    - Tamanho (número de linhas, colunas e canais) das imagens\n",
        "    - Distribuição das classes\n",
        "\n",
        "Dicas (que podem facilitar muito esse e os próximos itens):\n",
        "- A função loadmat da biblioteca scipy permite fazer a leitura dos arquivos.mat (base SVHN);\n",
        "- Converter as imagens (X_train e X_test) para float16 pode ajudar a reduzir o consumo de RAM. O numpy permite fazer tal conversão com um código dotipo: np.float16(X);\n",
        "- Converter as classes (y_train e y_test) para uint8 permite reduzir o consumo de RAM."
      ],
      "id": "7dfe1326"
    },
    {
      "cell_type": "markdown",
      "metadata": {
        "id": "acb0b34c"
      },
      "source": [
        "### a) Processando cifar10"
      ],
      "id": "acb0b34c"
    },
    {
      "cell_type": "code",
      "metadata": {
        "id": "b8af2fac"
      },
      "source": [
        "(cifar10_x_train, cifar10_y_train), (cifar10_x_test, cifar10_y_test) = cifar10.load_data()"
      ],
      "id": "b8af2fac",
      "execution_count": null,
      "outputs": []
    },
    {
      "cell_type": "code",
      "metadata": {
        "colab": {
          "base_uri": "https://localhost:8080/"
        },
        "id": "7552c81a",
        "outputId": "075acf2a-24b5-4e81-8996-96b653c79261"
      },
      "source": [
        "cifar10_x_train.shape, cifar10_y_train.shape, cifar10_x_test.shape, cifar10_y_test.shape"
      ],
      "id": "7552c81a",
      "execution_count": null,
      "outputs": [
        {
          "output_type": "execute_result",
          "data": {
            "text/plain": [
              "((50000, 32, 32, 3), (50000, 1), (10000, 32, 32, 3), (10000, 1))"
            ]
          },
          "metadata": {
            "tags": []
          },
          "execution_count": 6
        }
      ]
    },
    {
      "cell_type": "code",
      "metadata": {
        "id": "ab62dfe4"
      },
      "source": [
        "cifar10_y_train = cifar10_y_train.squeeze()\n",
        "cifar10_y_test = cifar10_y_test.squeeze()"
      ],
      "id": "ab62dfe4",
      "execution_count": null,
      "outputs": []
    },
    {
      "cell_type": "code",
      "metadata": {
        "colab": {
          "base_uri": "https://localhost:8080/"
        },
        "id": "332799ef",
        "outputId": "28ec9ef1-480b-466b-ac95-15abd23e4cb3"
      },
      "source": [
        "cifar10_x_train.shape, cifar10_y_train.shape, cifar10_x_test.shape, cifar10_y_test.shape"
      ],
      "id": "332799ef",
      "execution_count": null,
      "outputs": [
        {
          "output_type": "execute_result",
          "data": {
            "text/plain": [
              "((50000, 32, 32, 3), (50000,), (10000, 32, 32, 3), (10000,))"
            ]
          },
          "metadata": {
            "tags": []
          },
          "execution_count": 8
        }
      ]
    },
    {
      "cell_type": "markdown",
      "metadata": {
        "id": "57441300"
      },
      "source": [
        "### b) Processando svhn"
      ],
      "id": "57441300"
    },
    {
      "cell_type": "code",
      "metadata": {
        "id": "761759e9"
      },
      "source": [
        "train = scipy.io.loadmat('/content/drive/My Drive/ICMC/Redes Neurais/train_32x32.mat')\n",
        "test = scipy.io.loadmat('/content/drive/My Drive/ICMC/Redes Neurais/test_32x32.mat')"
      ],
      "id": "761759e9",
      "execution_count": null,
      "outputs": []
    },
    {
      "cell_type": "code",
      "metadata": {
        "id": "bc67b766"
      },
      "source": [
        "svhn_x_train = train['X']\n",
        "svhn_y_train = train['y']\n",
        "\n",
        "svhn_x_test = test['X']\n",
        "svhn_y_test = test['y']"
      ],
      "id": "bc67b766",
      "execution_count": null,
      "outputs": []
    },
    {
      "cell_type": "code",
      "metadata": {
        "colab": {
          "base_uri": "https://localhost:8080/"
        },
        "id": "f81966a6",
        "outputId": "cbb9a8a6-646e-4ffe-f4ea-125e7953fc68"
      },
      "source": [
        "svhn_x_train.shape, svhn_y_train.shape, svhn_x_test.shape, svhn_y_test.shape"
      ],
      "id": "f81966a6",
      "execution_count": null,
      "outputs": [
        {
          "output_type": "execute_result",
          "data": {
            "text/plain": [
              "((32, 32, 3, 73257), (73257, 1), (32, 32, 3, 26032), (26032, 1))"
            ]
          },
          "metadata": {
            "tags": []
          },
          "execution_count": 11
        }
      ]
    },
    {
      "cell_type": "code",
      "metadata": {
        "id": "5920bb49"
      },
      "source": [
        "svhn_x_train = svhn_x_train.transpose(3, 0, 1, 2)\n",
        "svhn_x_test = svhn_x_test.transpose(3, 0, 1, 2)\n",
        "\n",
        "svhn_y_train = svhn_y_train.squeeze()\n",
        "svhn_y_test = svhn_y_test.squeeze()\n",
        "\n",
        "svhn_y_train -= 1\n",
        "svhn_y_test -= 1"
      ],
      "id": "5920bb49",
      "execution_count": null,
      "outputs": []
    },
    {
      "cell_type": "code",
      "metadata": {
        "colab": {
          "base_uri": "https://localhost:8080/"
        },
        "id": "fcdb68d9",
        "outputId": "a8e009f3-8a74-49bf-b2fe-cdee8c437c8c"
      },
      "source": [
        "svhn_x_train.shape, svhn_y_train.shape, svhn_x_test.shape, svhn_y_test.shape"
      ],
      "id": "fcdb68d9",
      "execution_count": null,
      "outputs": [
        {
          "output_type": "execute_result",
          "data": {
            "text/plain": [
              "((73257, 32, 32, 3), (73257,), (26032, 32, 32, 3), (26032,))"
            ]
          },
          "metadata": {
            "tags": []
          },
          "execution_count": 13
        }
      ]
    },
    {
      "cell_type": "code",
      "metadata": {
        "id": "teU_3y0OLf-K"
      },
      "source": [
        "distribution_cifar = np.dstack(np.unique(cifar10_y_train.astype(np.int16), return_counts = True))[0]\n",
        "distribution_svhn = np.dstack(np.unique(svhn_y_train.astype(np.int16), return_counts = True))[0]"
      ],
      "id": "teU_3y0OLf-K",
      "execution_count": null,
      "outputs": []
    },
    {
      "cell_type": "code",
      "metadata": {
        "id": "ifOiLifdIJjg"
      },
      "source": [
        "b = np.zeros((cifar10_y_train.size, cifar10_y_train.max()+1))\n",
        "b[np.arange(cifar10_y_train.size), cifar10_y_train] = 1\n",
        "cifar10_y_train = b\n",
        "\n",
        "b = np.zeros((cifar10_y_test.size, cifar10_y_test.max()+1))\n",
        "b[np.arange(cifar10_y_test.size), cifar10_y_test] = 1\n",
        "cifar10_y_test = b\n",
        "\n",
        "b = np.zeros((svhn_y_train.size, svhn_y_train.max()+1))\n",
        "b[np.arange(svhn_y_train.size), svhn_y_train] = 1\n",
        "svhn_y_train = b\n",
        "\n",
        "b = np.zeros((svhn_y_test.size, svhn_y_test.max()+1))\n",
        "b[np.arange(svhn_y_test.size), svhn_y_test] = 1\n",
        "svhn_y_test = b"
      ],
      "id": "ifOiLifdIJjg",
      "execution_count": null,
      "outputs": []
    },
    {
      "cell_type": "code",
      "metadata": {
        "colab": {
          "base_uri": "https://localhost:8080/"
        },
        "id": "zItkElDHJoHv",
        "outputId": "7f668d2c-a69c-4212-b19c-fcc21e214d25"
      },
      "source": [
        "cifar10_y_train.shape, cifar10_y_test.shape, svhn_y_train.shape, svhn_y_test.shape"
      ],
      "id": "zItkElDHJoHv",
      "execution_count": null,
      "outputs": [
        {
          "output_type": "execute_result",
          "data": {
            "text/plain": [
              "((50000, 10), (10000, 10), (73257, 10), (26032, 10))"
            ]
          },
          "metadata": {
            "tags": []
          },
          "execution_count": 16
        }
      ]
    },
    {
      "cell_type": "markdown",
      "metadata": {
        "id": "865026db"
      },
      "source": [
        "### Conversões"
      ],
      "id": "865026db"
    },
    {
      "cell_type": "code",
      "metadata": {
        "id": "036f6b92"
      },
      "source": [
        "cifar10_x_train = cifar10_x_train.astype(np.float16)\n",
        "cifar10_x_test = cifar10_x_test.astype(np.float16)\n",
        "cifar10_y_train = cifar10_y_train.astype(np.uint8)\n",
        "cifar10_y_test = cifar10_y_test.astype(np.uint8)\n",
        "\n",
        "svhn_x_train = svhn_x_train.astype(np.float16)\n",
        "svhn_x_test = svhn_x_test.astype(np.float16)\n",
        "svhn_y_train = svhn_y_train.astype(np.uint8)\n",
        "svhn_y_test = svhn_y_test.astype(np.uint8)"
      ],
      "id": "036f6b92",
      "execution_count": null,
      "outputs": []
    },
    {
      "cell_type": "markdown",
      "metadata": {
        "id": "4e401cad"
      },
      "source": [
        "### c) Transformando para o intervalo [0,1]"
      ],
      "id": "4e401cad"
    },
    {
      "cell_type": "code",
      "metadata": {
        "id": "cc429a5f"
      },
      "source": [
        "def normalize(array):\n",
        "    maxi, mini = array.max(), array.min()\n",
        "    diff = maxi - mini\n",
        "    \n",
        "    if diff == 0:\n",
        "        diff = 1\n",
        "    \n",
        "    return (array - mini) / diff"
      ],
      "id": "cc429a5f",
      "execution_count": null,
      "outputs": []
    },
    {
      "cell_type": "code",
      "metadata": {
        "id": "62a4d088"
      },
      "source": [
        "cifar10_x_train = normalize(cifar10_x_train)\n",
        "cifar10_x_test = normalize(cifar10_x_test)\n",
        "\n",
        "svhn_x_train = normalize(svhn_x_train)\n",
        "svhn_x_test = normalize(svhn_x_test)"
      ],
      "id": "62a4d088",
      "execution_count": null,
      "outputs": []
    },
    {
      "cell_type": "markdown",
      "metadata": {
        "id": "ee47fc9b"
      },
      "source": [
        "### d) "
      ],
      "id": "ee47fc9b"
    },
    {
      "cell_type": "markdown",
      "metadata": {
        "id": "5cc5cc8f"
      },
      "source": [
        "#### cifar10"
      ],
      "id": "5cc5cc8f"
    },
    {
      "cell_type": "code",
      "metadata": {
        "colab": {
          "base_uri": "https://localhost:8080/"
        },
        "id": "d964b26c",
        "outputId": "7a76d8e9-d496-45d6-e941-cd4b17892125"
      },
      "source": [
        "print('Quantidade de imagens de treino:', cifar10_x_train.shape[0])\n",
        "print('Quantidade de imagens de teste:', cifar10_x_test.shape[0])\n",
        "print('Tamanho (número de linhas, colunas e canais) das imagens', cifar10_x_train[0].shape)\n",
        "print('Distribuição das classes\\n', distribution_cifar)"
      ],
      "id": "d964b26c",
      "execution_count": null,
      "outputs": [
        {
          "output_type": "stream",
          "text": [
            "Quantidade de imagens de treino: 50000\n",
            "Quantidade de imagens de teste: 10000\n",
            "Tamanho (número de linhas, colunas e canais) das imagens (32, 32, 3)\n",
            "Distribuição das classes\n",
            " [[   0 5000]\n",
            " [   1 5000]\n",
            " [   2 5000]\n",
            " [   3 5000]\n",
            " [   4 5000]\n",
            " [   5 5000]\n",
            " [   6 5000]\n",
            " [   7 5000]\n",
            " [   8 5000]\n",
            " [   9 5000]]\n"
          ],
          "name": "stdout"
        }
      ]
    },
    {
      "cell_type": "markdown",
      "metadata": {
        "id": "6d9880f5"
      },
      "source": [
        "#### svhn"
      ],
      "id": "6d9880f5"
    },
    {
      "cell_type": "code",
      "metadata": {
        "colab": {
          "base_uri": "https://localhost:8080/"
        },
        "id": "93fee199",
        "outputId": "b999eb7e-8999-48db-bbb1-4e88a83da628"
      },
      "source": [
        "print('Quantidade de imagens de treino:', svhn_x_train.shape[0])\n",
        "print('Quantidade de imagens de teste:', svhn_x_test.shape[0])\n",
        "print('Tamanho (número de linhas, colunas e canais) das imagens', svhn_x_train[0].shape)\n",
        "print('Distribuição das classes\\n', distribution_svhn)"
      ],
      "id": "93fee199",
      "execution_count": null,
      "outputs": [
        {
          "output_type": "stream",
          "text": [
            "Quantidade de imagens de treino: 73257\n",
            "Quantidade de imagens de teste: 26032\n",
            "Tamanho (número de linhas, colunas e canais) das imagens (32, 32, 3)\n",
            "Distribuição das classes\n",
            " [[    0 13861]\n",
            " [    1 10585]\n",
            " [    2  8497]\n",
            " [    3  7458]\n",
            " [    4  6882]\n",
            " [    5  5727]\n",
            " [    6  5595]\n",
            " [    7  5045]\n",
            " [    8  4659]\n",
            " [    9  4948]]\n"
          ],
          "name": "stdout"
        }
      ]
    },
    {
      "cell_type": "markdown",
      "metadata": {
        "id": "50318d75"
      },
      "source": [
        "É notável que o cifar10 está muito mais balanceado que o svhn"
      ],
      "id": "50318d75"
    },
    {
      "cell_type": "markdown",
      "metadata": {
        "id": "73536965"
      },
      "source": [
        "## Questão 3\n",
        "\n",
        "Vamos gerar versões ruidosas das bases de imagens e ver como isso afeta sua qualidade visual.\n",
        "1. Gerar versões das duas bases de dados afetadas por ruído gaussiano com variâncias de 0.001 e 0.01, respectivamente;\n",
        "2. Mostrar uma imagem de cada uma das classes em 3 versões (original, Gauss 0.001 e Gauss 0.01). Isso deve ser feito para as duas bases (CIFAR-10 e SVHN).\n",
        "\n",
        "O ruído gaussiano gera imagens parecidas com as do seguinte exemplo, no qual temos: as imagens originais na primeira linha, imagens com ruído gaussiano (var 0.001) na segunda linha e imagens com ruído gaussiano (var 0.01) na terceira linha. \n",
        "\n",
        "Dica:\n",
        "- Para gerar as imagens com ruído gaussiano use a função random_noise da biblioteca scikit-image. Tal função de ser usada da seguinte forma: random_noise(img_original, mode='gaussian', var=0.01);"
      ],
      "id": "73536965"
    },
    {
      "cell_type": "code",
      "metadata": {
        "id": "c3c48af6"
      },
      "source": [
        "class NoisyImage:\n",
        "    def __init__(self, original):\n",
        "        self.original = original\n",
        "        self.noisy0001 = self.apply_noise(0.001)\n",
        "        self.noisy001 = self.apply_noise(0.01)\n",
        "    \n",
        "    def apply_noise(self, var):\n",
        "        # return skimage.util.random_noise(self.original, mode='gaussian', var=var)\n",
        "        self.noisy = self.original.copy()\n",
        "        for i in np.arange(self.original.shape[0]):\n",
        "            self.noisy[i] = skimage.util.random_noise(self.original[i], mode='gaussian', var=var)\n",
        "        return self.noisy"
      ],
      "id": "c3c48af6",
      "execution_count": null,
      "outputs": []
    },
    {
      "cell_type": "code",
      "metadata": {
        "colab": {
          "base_uri": "https://localhost:8080/"
        },
        "id": "10687412",
        "outputId": "0efdeb51-4940-4e84-e048-5626d9101ce4"
      },
      "source": [
        "%%time\n",
        "\n",
        "cifar10_x_train = NoisyImage(cifar10_x_train)\n",
        "cifar10_x_test = NoisyImage(cifar10_x_test)\n",
        "\n",
        "svhn_x_train = NoisyImage(svhn_x_train)\n",
        "svhn_x_test = NoisyImage(svhn_x_test)"
      ],
      "id": "10687412",
      "execution_count": null,
      "outputs": [
        {
          "output_type": "stream",
          "text": [
            "CPU times: user 1min 30s, sys: 318 ms, total: 1min 31s\n",
            "Wall time: 1min 30s\n"
          ],
          "name": "stdout"
        }
      ]
    },
    {
      "cell_type": "markdown",
      "metadata": {
        "id": "O0B0KEd0xSXD"
      },
      "source": [
        "## Questão 4\n",
        "\n",
        "Treinar uma versão do modelo para cada versão das bases de dados. Ou seja, você deve treinar os seguintes seis modelos:\n",
        "1. Modelo treinado na CIFAR-10 original;\n",
        "2. Modelo treinado na CIFAR-10 Gauss 0.001;\n",
        "3. Modelo treinado na CIFAR-10 Gauss 0.01;\n",
        "\n",
        "\n",
        "1. Modelo treinado na SVHN original;\n",
        "2. Modelo treinado na SVHN Gauss 0.001;\n",
        "3. Modelo treinado na SVHN Gauss 0.01;\n",
        "\n",
        "Todos os modelos devem ser treinado usando:\n",
        "- Adam como otimizador;\n",
        "- Por 10 epocas;\n",
        "- Os demais parâmetros devem ser deixados como padrão.\n",
        "\n",
        "Dica:\n",
        "- Você pode salvar os modelos e depois carregá-los novamente, com as\n",
        "funções save e load_model. Verifique a documentação do Keras."
      ],
      "id": "O0B0KEd0xSXD"
    },
    {
      "cell_type": "code",
      "metadata": {
        "colab": {
          "base_uri": "https://localhost:8080/"
        },
        "id": "w_nRk2dxtHjK",
        "outputId": "aeec830d-32eb-4791-9c21-580a79447a97"
      },
      "source": [
        "model = generate_model()\n",
        "model.fit(cifar10_x_train.original, cifar10_y_train, epochs=10)\n",
        "model.save('/content/drive/My Drive/ICMC/Redes Neurais/cifar10_original')\n",
        "\n",
        "model.fit(cifar10_x_train.noisy0001, cifar10_y_train, epochs=10)\n",
        "model.save('/content/drive/My Drive/ICMC/Redes Neurais/cifar10_noisy0001')\n",
        "\n",
        "model.fit(cifar10_x_train.noisy001, cifar10_y_train, epochs=10)\n",
        "model.save('/content/drive/My Drive/ICMC/Redes Neurais/cifar10_noisy001')\n",
        "\n",
        "\n",
        "\n",
        "model.fit(svhn_x_train.original, svhn_y_train, epochs=10)\n",
        "model.save('/content/drive/My Drive/ICMC/Redes Neurais/svhn_original')\n",
        "\n",
        "model.fit(svhn_x_train.noisy0001, svhn_y_train, epochs=10)\n",
        "model.save('/content/drive/My Drive/ICMC/Redes Neurais/svhn_noisy0001')\n",
        "\n",
        "model.fit(svhn_x_train.noisy001, svhn_y_train, epochs=10)\n",
        "model.save('/content/drive/My Drive/ICMC/Redes Neurais/svhn_noisy001')"
      ],
      "id": "w_nRk2dxtHjK",
      "execution_count": null,
      "outputs": [
        {
          "output_type": "stream",
          "text": [
            "Epoch 1/10\n",
            "1563/1563 [==============================] - 20s 4ms/step - loss: 1.7922 - accuracy: 0.3494\n",
            "Epoch 2/10\n",
            "1563/1563 [==============================] - 6s 4ms/step - loss: 1.2726 - accuracy: 0.5431\n",
            "Epoch 3/10\n",
            "1563/1563 [==============================] - 6s 4ms/step - loss: 1.1045 - accuracy: 0.6111\n",
            "Epoch 4/10\n",
            "1563/1563 [==============================] - 6s 4ms/step - loss: 1.0002 - accuracy: 0.6489\n",
            "Epoch 5/10\n",
            "1563/1563 [==============================] - 6s 4ms/step - loss: 0.9180 - accuracy: 0.6799\n",
            "Epoch 6/10\n",
            "1563/1563 [==============================] - 7s 4ms/step - loss: 0.8685 - accuracy: 0.6960\n",
            "Epoch 7/10\n",
            "1563/1563 [==============================] - 6s 4ms/step - loss: 0.8408 - accuracy: 0.7074\n",
            "Epoch 8/10\n",
            "1563/1563 [==============================] - 7s 4ms/step - loss: 0.7875 - accuracy: 0.7243\n",
            "Epoch 9/10\n",
            "1563/1563 [==============================] - 6s 4ms/step - loss: 0.7558 - accuracy: 0.7372\n",
            "Epoch 10/10\n",
            "1563/1563 [==============================] - 6s 4ms/step - loss: 0.7220 - accuracy: 0.7483\n",
            "INFO:tensorflow:Assets written to: /content/drive/My Drive/ICMC/Redes Neurais/cifar10_original/assets\n",
            "Epoch 1/10\n",
            "1563/1563 [==============================] - 7s 4ms/step - loss: 0.7442 - accuracy: 0.7414\n",
            "Epoch 2/10\n",
            "1563/1563 [==============================] - 7s 4ms/step - loss: 0.7194 - accuracy: 0.7467\n",
            "Epoch 3/10\n",
            "1563/1563 [==============================] - 7s 4ms/step - loss: 0.7002 - accuracy: 0.7550\n",
            "Epoch 4/10\n",
            "1563/1563 [==============================] - 7s 4ms/step - loss: 0.6788 - accuracy: 0.7614\n",
            "Epoch 5/10\n",
            "1563/1563 [==============================] - 7s 4ms/step - loss: 0.6642 - accuracy: 0.7655\n",
            "Epoch 6/10\n",
            "1563/1563 [==============================] - 7s 4ms/step - loss: 0.6490 - accuracy: 0.7725\n",
            "Epoch 7/10\n",
            "1563/1563 [==============================] - 6s 4ms/step - loss: 0.6334 - accuracy: 0.7777\n",
            "Epoch 8/10\n",
            "1563/1563 [==============================] - 6s 4ms/step - loss: 0.6254 - accuracy: 0.7800\n",
            "Epoch 9/10\n",
            "1563/1563 [==============================] - 6s 4ms/step - loss: 0.6105 - accuracy: 0.7847\n",
            "Epoch 10/10\n",
            "1563/1563 [==============================] - 7s 4ms/step - loss: 0.5995 - accuracy: 0.7878\n",
            "INFO:tensorflow:Assets written to: /content/drive/My Drive/ICMC/Redes Neurais/cifar10_noisy0001/assets\n",
            "Epoch 1/10\n",
            "1563/1563 [==============================] - 7s 4ms/step - loss: 0.8373 - accuracy: 0.7027\n",
            "Epoch 2/10\n",
            "1563/1563 [==============================] - 7s 4ms/step - loss: 0.7798 - accuracy: 0.7218\n",
            "Epoch 3/10\n",
            "1563/1563 [==============================] - 7s 4ms/step - loss: 0.7422 - accuracy: 0.7388\n",
            "Epoch 4/10\n",
            "1563/1563 [==============================] - 6s 4ms/step - loss: 0.7283 - accuracy: 0.7412\n",
            "Epoch 5/10\n",
            "1563/1563 [==============================] - 7s 4ms/step - loss: 0.7070 - accuracy: 0.7491\n",
            "Epoch 6/10\n",
            "1563/1563 [==============================] - 7s 4ms/step - loss: 0.6942 - accuracy: 0.7533\n",
            "Epoch 7/10\n",
            "1563/1563 [==============================] - 6s 4ms/step - loss: 0.6785 - accuracy: 0.7608\n",
            "Epoch 8/10\n",
            "1563/1563 [==============================] - 6s 4ms/step - loss: 0.6652 - accuracy: 0.7637\n",
            "Epoch 9/10\n",
            "1563/1563 [==============================] - 7s 4ms/step - loss: 0.6516 - accuracy: 0.7680\n",
            "Epoch 10/10\n",
            "1563/1563 [==============================] - 6s 4ms/step - loss: 0.6415 - accuracy: 0.7699\n",
            "INFO:tensorflow:Assets written to: /content/drive/My Drive/ICMC/Redes Neurais/cifar10_noisy001/assets\n",
            "Epoch 1/10\n",
            "2290/2290 [==============================] - 10s 4ms/step - loss: 0.9671 - accuracy: 0.6852\n",
            "Epoch 2/10\n",
            "2290/2290 [==============================] - 9s 4ms/step - loss: 0.5359 - accuracy: 0.8346\n",
            "Epoch 3/10\n",
            "2290/2290 [==============================] - 10s 4ms/step - loss: 0.4505 - accuracy: 0.8618\n",
            "Epoch 4/10\n",
            "2290/2290 [==============================] - 10s 4ms/step - loss: 0.3986 - accuracy: 0.8794\n",
            "Epoch 5/10\n",
            "2290/2290 [==============================] - 10s 4ms/step - loss: 0.3674 - accuracy: 0.8883\n",
            "Epoch 6/10\n",
            "2290/2290 [==============================] - 10s 4ms/step - loss: 0.3431 - accuracy: 0.8964\n",
            "Epoch 7/10\n",
            "2290/2290 [==============================] - 10s 4ms/step - loss: 0.3227 - accuracy: 0.9026\n",
            "Epoch 8/10\n",
            "2290/2290 [==============================] - 10s 4ms/step - loss: 0.3051 - accuracy: 0.9075\n",
            "Epoch 9/10\n",
            "2290/2290 [==============================] - 10s 4ms/step - loss: 0.2911 - accuracy: 0.9121\n",
            "Epoch 10/10\n",
            "2290/2290 [==============================] - 10s 4ms/step - loss: 0.2818 - accuracy: 0.9153\n",
            "INFO:tensorflow:Assets written to: /content/drive/My Drive/ICMC/Redes Neurais/svhn_original/assets\n",
            "Epoch 1/10\n",
            "2290/2290 [==============================] - 10s 4ms/step - loss: 0.3093 - accuracy: 0.9045\n",
            "Epoch 2/10\n",
            "2290/2290 [==============================] - 10s 4ms/step - loss: 0.2916 - accuracy: 0.9108\n",
            "Epoch 3/10\n",
            "2290/2290 [==============================] - 10s 4ms/step - loss: 0.2812 - accuracy: 0.9136\n",
            "Epoch 4/10\n",
            "2290/2290 [==============================] - 10s 4ms/step - loss: 0.2704 - accuracy: 0.9159\n",
            "Epoch 5/10\n",
            "2290/2290 [==============================] - 10s 4ms/step - loss: 0.2612 - accuracy: 0.9190\n",
            "Epoch 6/10\n",
            "2290/2290 [==============================] - 10s 4ms/step - loss: 0.2533 - accuracy: 0.9217\n",
            "Epoch 7/10\n",
            "2290/2290 [==============================] - 10s 4ms/step - loss: 0.2468 - accuracy: 0.9240\n",
            "Epoch 8/10\n",
            "2290/2290 [==============================] - 10s 4ms/step - loss: 0.2383 - accuracy: 0.9260\n",
            "Epoch 9/10\n",
            "2290/2290 [==============================] - 10s 4ms/step - loss: 0.2335 - accuracy: 0.9271\n",
            "Epoch 10/10\n",
            "2290/2290 [==============================] - 10s 4ms/step - loss: 0.2253 - accuracy: 0.9297\n",
            "INFO:tensorflow:Assets written to: /content/drive/My Drive/ICMC/Redes Neurais/svhn_noisy0001/assets\n",
            "Epoch 1/10\n",
            "2290/2290 [==============================] - 10s 4ms/step - loss: 0.4607 - accuracy: 0.8540\n",
            "Epoch 2/10\n",
            "2290/2290 [==============================] - 10s 4ms/step - loss: 0.4029 - accuracy: 0.8714\n",
            "Epoch 3/10\n",
            "2290/2290 [==============================] - 10s 4ms/step - loss: 0.3828 - accuracy: 0.8777\n",
            "Epoch 4/10\n",
            "2290/2290 [==============================] - 10s 4ms/step - loss: 0.3650 - accuracy: 0.8826\n",
            "Epoch 5/10\n",
            "2290/2290 [==============================] - 10s 4ms/step - loss: 0.3514 - accuracy: 0.8881\n",
            "Epoch 6/10\n",
            "2290/2290 [==============================] - 10s 4ms/step - loss: 0.3395 - accuracy: 0.8915\n",
            "Epoch 7/10\n",
            "2290/2290 [==============================] - 10s 4ms/step - loss: 0.3275 - accuracy: 0.8953\n",
            "Epoch 8/10\n",
            "2290/2290 [==============================] - 10s 4ms/step - loss: 0.3175 - accuracy: 0.8992\n",
            "Epoch 9/10\n",
            "2290/2290 [==============================] - 10s 4ms/step - loss: 0.3144 - accuracy: 0.8993\n",
            "Epoch 10/10\n",
            "2290/2290 [==============================] - 10s 4ms/step - loss: 0.3045 - accuracy: 0.9030\n",
            "INFO:tensorflow:Assets written to: /content/drive/My Drive/ICMC/Redes Neurais/svhn_noisy001/assets\n"
          ],
          "name": "stdout"
        }
      ]
    },
    {
      "cell_type": "markdown",
      "metadata": {
        "id": "u2r8BJbmQPz7"
      },
      "source": [
        "## Questão 5\n",
        "\n",
        "Agora, vamos tentar entender os impactos do ruído na acurácia dos modelos fazendo os seguintes experimentos:\n",
        "1. Calcular a acurácia dos modelos em todas as versões da base de teste. Por exemplo, para o modelo treinado com os dados de treinamento da CIFAR-10 original devemos computar sua acurácia nas bases de teste original, Gauss 0.001 e Gauss 0.01. Ou seja, para cada um dos modelos vamos computar 3 acurácias;\n",
        "2. Com bases nesses resultados, discuta qual das duas afirmações mais explica as variações de acurácia dos nossos experimentos:\n",
        "  1. O ruído torna o problema mais difícil, logo fica mais difícil para o modelo aprender com dados ruidosos;\n",
        "  2. Quando um modelo é exposto a dados bastante diferentes dos de seu treinamento (e.g. com bastante ruído) sua acurácia pode cair."
      ],
      "id": "u2r8BJbmQPz7"
    },
    {
      "cell_type": "code",
      "metadata": {
        "colab": {
          "base_uri": "https://localhost:8080/"
        },
        "id": "XxUD0rFTQjmU",
        "outputId": "ab813fbc-d3a5-43a8-fa4d-8821b542d83f"
      },
      "source": [
        "models_cifar = [\n",
        "    'cifar10_original',\n",
        "    'cifar10_noisy0001',\n",
        "    'cifar10_noisy001',\n",
        "]\n",
        "\n",
        "models_svhn = [\n",
        "    'svhn_original',\n",
        "    'svhn_noisy0001',\n",
        "    'svhn_noisy001',\n",
        "]\n",
        "\n",
        "for model_folder in models_cifar:\n",
        "    model = keras.models.load_model('/content/drive/My Drive/ICMC/Redes Neurais/' + model_folder)\n",
        "\n",
        "    cifar10_original = model.evaluate(cifar10_x_test.original, cifar10_y_test, use_multiprocessing=True, return_dict=True, verbose=False)\n",
        "    cifar10_noisy0001 = model.evaluate(cifar10_x_test.noisy0001, cifar10_y_test, use_multiprocessing=True, return_dict=True, verbose=False)\n",
        "    cifar10_noisy001 = model.evaluate(cifar10_x_test.noisy001, cifar10_y_test, use_multiprocessing=True, return_dict=True, verbose=False)\n",
        "\n",
        "    print('Results for model', model_folder)\n",
        "    print('cifar10_original:', cifar10_original)\n",
        "    print('cifar10_noisy0001:', cifar10_noisy0001)\n",
        "    print('cifar10_noisy001:', cifar10_noisy001)\n",
        "    print('Média:', (cifar10_original['accuracy'] + cifar10_noisy0001['accuracy'] + cifar10_noisy001['accuracy']) / 3)\n",
        "\n",
        "print('-' * 80)\n",
        "\n",
        "for model_folder in models_svhn:\n",
        "    model = keras.models.load_model('/content/drive/My Drive/ICMC/Redes Neurais/' + model_folder)\n",
        "\n",
        "    svhn_original = model.evaluate(svhn_x_test.original, svhn_y_test, use_multiprocessing=True, return_dict=True, verbose=False)\n",
        "    svhn_noisy0001 = model.evaluate(svhn_x_test.noisy0001, svhn_y_test, use_multiprocessing=True, return_dict=True, verbose=False)\n",
        "    svhn_noisy001 = model.evaluate(svhn_x_test.noisy001, svhn_y_test, use_multiprocessing=True, return_dict=True, verbose=False)\n",
        "\n",
        "    print('Results for model', model_folder)\n",
        "    print('svhn_original:', svhn_original)\n",
        "    print('svhn_noisy0001:', svhn_noisy0001)\n",
        "    print('svhn_noisy001:', svhn_noisy001)\n",
        "    print('Média:', (svhn_original['accuracy'] + svhn_noisy0001['accuracy'] + svhn_noisy001['accuracy']) / 3)"
      ],
      "id": "XxUD0rFTQjmU",
      "execution_count": null,
      "outputs": [
        {
          "output_type": "stream",
          "text": [
            "Results for model cifar10_original\n",
            "cifar10_original: {'loss': 0.9485189318656921, 'accuracy': 0.6812000274658203}\n",
            "cifar10_noisy0001: {'loss': 1.058789610862732, 'accuracy': 0.6439999938011169}\n",
            "cifar10_noisy001: {'loss': 1.919073462486267, 'accuracy': 0.4300000071525574}\n",
            "Média: 0.5850666761398315\n",
            "Results for model cifar10_noisy0001\n",
            "cifar10_original: {'loss': 0.9699365496635437, 'accuracy': 0.6948000192642212}\n",
            "cifar10_noisy0001: {'loss': 0.9673864245414734, 'accuracy': 0.6930000185966492}\n",
            "cifar10_noisy001: {'loss': 1.3808842897415161, 'accuracy': 0.5800999999046326}\n",
            "Média: 0.6559666792551676\n",
            "Results for model cifar10_noisy001\n",
            "cifar10_original: {'loss': 1.1915020942687988, 'accuracy': 0.6237000226974487}\n",
            "cifar10_noisy0001: {'loss': 1.1636205911636353, 'accuracy': 0.6284999847412109}\n",
            "cifar10_noisy001: {'loss': 1.1198492050170898, 'accuracy': 0.6491000056266785}\n",
            "Média: 0.6337666710217794\n",
            "--------------------------------------------------------------------------------\n",
            "Results for model svhn_original\n",
            "svhn_original: {'loss': 0.396482914686203, 'accuracy': 0.8864858746528625}\n",
            "svhn_noisy0001: {'loss': 0.4289434254169464, 'accuracy': 0.8763445019721985}\n",
            "svhn_noisy001: {'loss': 0.9148530960083008, 'accuracy': 0.7098954916000366}\n",
            "Média: 0.8242419560750326\n",
            "Results for model svhn_noisy0001\n",
            "svhn_original: {'loss': 0.4142594039440155, 'accuracy': 0.8902888894081116}\n",
            "svhn_noisy0001: {'loss': 0.43709880113601685, 'accuracy': 0.8834127187728882}\n",
            "svhn_noisy001: {'loss': 0.8200121521949768, 'accuracy': 0.7584511637687683}\n",
            "Média: 0.844050923983256\n",
            "Results for model svhn_noisy001\n",
            "svhn_original: {'loss': 0.4327741861343384, 'accuracy': 0.8868315815925598}\n",
            "svhn_noisy0001: {'loss': 0.4337426722049713, 'accuracy': 0.8880992531776428}\n",
            "svhn_noisy001: {'loss': 0.5183399319648743, 'accuracy': 0.8589044213294983}\n",
            "Média: 0.877945085366567\n"
          ],
          "name": "stdout"
        }
      ]
    },
    {
      "cell_type": "markdown",
      "metadata": {
        "id": "YwjJgfdoboXf"
      },
      "source": [
        "### Hipótese 1\n",
        "\n",
        "Para validar a hipótese 1\n",
        "\n",
        "- O ruído torna o problema mais difícil, logo fica mais difícil para o modelo aprender com dados ruidosos;\n",
        "\n",
        "Precisamos comparar o quanto a acurácia geral dos modelos treinados com imagens ruidosas caiu.\n",
        "\n",
        "Como pode ser observado acima, a acurácia geral não só não caiu muito como aumentou expressivamente para os testes nas bases de teste com ruído. Se analisarmos a média, podemos ver que ela aumentou. \n",
        "\n",
        "Em suma, se o problema que você está tentando resolver estiver propenso a ruidos, não adianta treinar numa base pura sem ruídos. É necessário que a base utilizada para treinamento esteja condizente com o contexto em que o classificador será utilizado"
      ],
      "id": "YwjJgfdoboXf"
    },
    {
      "cell_type": "markdown",
      "metadata": {
        "id": "J7_DRarkaymH"
      },
      "source": [
        "### Hipótese 2\n",
        "\n",
        "Para validar a hipótese 2\n",
        "\n",
        "- Quando um modelo é exposto a dados bastante diferentes dos de seu treinamento (e.g. com bastante ruído) sua acurácia pode cair.\n",
        "\n",
        "É necessário considerar o modelo treinado com as imagens originais e testado com as imagens com ruído:\n",
        "\n",
        "Results for model cifar10_original\n",
        "- cifar10_original: {'loss': 0.9485189318656921, 'accuracy': 0.6812000274658203}\n",
        "- cifar10_noisy0001: {'loss': 1.058789610862732, 'accuracy': 0.6439999938011169}\n",
        "- cifar10_noisy001: {'loss': 1.919073462486267, 'accuracy': 0.4300000071525574}\n",
        "\n",
        "Results for model svhn_original\n",
        "- svhn_original: {'loss': 0.396482914686203, 'accuracy': 0.8864858746528625}\n",
        "- svhn_noisy0001: {'loss': 0.4289434254169464, 'accuracy': 0.8763445019721985}\n",
        "- svhn_noisy001: {'loss': 0.9148530960083008, 'accuracy': 0.7098954916000366}\n",
        "\n",
        "Como visto acima, realmente a acurácia cai quando o modelo treinado com imagens sem ruído é exposto a imagens com ruído. Aparentemente quanto mais ruído mais ela cai. Isso reforça a conclusão que cheguei na análise da hipótese 1. Se seu contexto será de imagens ruidósas, não adianta treinar com imagens limpas.\n",
        "\n"
      ],
      "id": "J7_DRarkaymH"
    },
    {
      "cell_type": "markdown",
      "metadata": {
        "id": "9hX9x_pbcLcv"
      },
      "source": [
        "### Conclusão\n",
        "\n",
        "A hipóstese 2 está mais condizente, logo, no geral, parece ser a que melhor explica a situação"
      ],
      "id": "9hX9x_pbcLcv"
    }
  ]
}